{
 "cells": [
  {
   "cell_type": "code",
   "execution_count": 12,
   "metadata": {},
   "outputs": [],
   "source": [
    "# Import essential modules\n",
    "\n",
    "import os            # miscellaneous operating system interfaces\n",
    "import requests      # send HTTP requests using Python\n",
    "import time\n",
    "import random\n",
    "import numpy as np\n",
    "import pandas as pd\n",
    "\n",
    "from tqdm import tqdm\n",
    "from selenium import webdriver\n",
    "from selenium.webdriver.common.by import By\n",
    "from selenium.webdriver.support.ui import WebDriverWait\n",
    "from selenium.webdriver.support import expected_conditions as EC\n",
    "from selenium.webdriver.chrome.service import Service\n",
    "from webdriver_manager.chrome import ChromeDriverManager\n"
   ]
  },
  {
   "cell_type": "code",
   "execution_count": 13,
   "metadata": {},
   "outputs": [],
   "source": [
    "chrome_options = webdriver.ChromeOptions()\n",
    "chrome_options.add_argument('--headless=new')   # Without open browser\n",
    "chrome_options.add_argument('--no-sandbox')\n",
    "\n",
    "\n",
    "driver = webdriver.Chrome('chromedriver', service=Service(ChromeDriverManager().install()), options=chrome_options)\n"
   ]
  },
  {
   "cell_type": "code",
   "execution_count": 14,
   "metadata": {},
   "outputs": [],
   "source": [
    "# Step 2: Create empty folder\n",
    "root_dir = r'D:\\\\AIO2023\\Works\\Crawling\\tiki'\n",
    "os.makedirs(root_dir, exist_ok=True)"
   ]
  },
  {
   "cell_type": "code",
   "execution_count": 15,
   "metadata": {},
   "outputs": [],
   "source": [
    "# Step 3: Get list of book links\n",
    "n_pages = 2\n",
    "book_url_list = []\n",
    "for page_id in range(1, n_pages+1):\n",
    "    main_url = f'https://tiki.vn/nha-sach-tiki/c8322?page={page_id}'\n",
    "    driver.get(main_url)\n",
    "    time.sleep(1)\n",
    "    \n",
    "    book_items_class_name = 'product-item'\n",
    "    tags = driver.find_elements(\n",
    "        By.CLASS_NAME,\n",
    "        book_items_class_name\n",
    "    )\n",
    "    for tag in tags:\n",
    "        book_url_list.append(tag.get_attribute('href'))"
   ]
  },
  {
   "cell_type": "code",
   "execution_count": 16,
   "metadata": {},
   "outputs": [],
   "source": [
    "data_list = []\n",
    "for url in book_url_list:\n",
    "    data = []\n",
    "    driver.get(url)\n",
    "    time.sleep(1)\n",
    "\n",
    "    # Get title\n",
    "    try:\n",
    "        title_name_xpath = '//h1[@class=\"title\"]'\n",
    "        title = driver.find_element(\n",
    "            By.XPATH,\n",
    "            title_name_xpath\n",
    "        ).text\n",
    "    except:\n",
    "        title = ''\n",
    "    data.append(title)\n",
    "\n",
    "    # Get author\n",
    "    try:\n",
    "        author_name_xpath = '//span[@class=\"brand-and-author no-after\"]/h6/a'\n",
    "        author = driver.find_element(\n",
    "            By.XPATH,\n",
    "            author_name_xpath\n",
    "        ).text\n",
    "    except:\n",
    "        author = ''\n",
    "    data.append(author)\n",
    "\n",
    "    # Get quantity sold\n",
    "    try:\n",
    "        quantity_sold_xpath = '//div[@class=\"below-title\"]/div/div[2]'\n",
    "        quantity_sold = driver.find_element(\n",
    "            By.XPATH,\n",
    "            quantity_sold_xpath\n",
    "        ).text.split()[-1]\n",
    "    except:\n",
    "        quantity_sold = ''\n",
    "    data.append(quantity_sold)\n",
    "\n",
    "    # Get review numbers\n",
    "    try:\n",
    "        review_numbers_xpath = '//div[@class=\"below-title\"]/div/div[1]/a'\n",
    "        review_numbers = driver.find_element(\n",
    "            By.XPATH,\n",
    "            review_numbers_xpath\n",
    "        ).text.split()[1]\n",
    "    except:\n",
    "        review_numbers = ''\n",
    "    data.append(review_numbers)\n",
    "\n",
    "    # Get original price\n",
    "    try:\n",
    "        original_price_xpath = '//div[@class=\"price-and-icon \"]/div[1]/div/div[2]'\n",
    "        original_price = driver.find_element(\n",
    "            By.XPATH,\n",
    "            original_price_xpath\n",
    "        ).text.split()[0]\n",
    "        original_price = original_price.replace('.','')\n",
    "    except:\n",
    "        original_price = ''\n",
    "    data.append(original_price)\n",
    "\n",
    "    # Get discount\n",
    "    try:\n",
    "        discount_xpath = '//div[@class=\"price-and-icon \"]/div[1]/div/div[3]'\n",
    "        discount = driver.find_element(\n",
    "            By.XPATH,\n",
    "            discount_xpath\n",
    "        ).text\n",
    "    except:\n",
    "        discount = ''\n",
    "    data.append(discount.replace('-',''))\n",
    "\n",
    "    # Get discounted price\n",
    "    try:\n",
    "        discounted_price_xpath = '//div[@class=\"price-and-icon \"]/div[1]/div/div[1]'\n",
    "        discounted_price = driver.find_element(\n",
    "            By.XPATH,\n",
    "            discounted_price_xpath\n",
    "        ).text.split()[0]\n",
    "        discounted_price = discounted_price.replace('.','')\n",
    "    except:\n",
    "        discounted_price = ''\n",
    "    data.append(discounted_price)\n",
    "\n",
    "    # Insert all data\n",
    "    data_list.append(data)\n",
    "\n",
    "    \n",
    "\n",
    "    "
   ]
  },
  {
   "cell_type": "code",
   "execution_count": 18,
   "metadata": {},
   "outputs": [],
   "source": [
    "n = len(data_list) \n",
    "for i in range(n):\n",
    "    data_list[i].append(book_url_list[i])"
   ]
  },
  {
   "cell_type": "code",
   "execution_count": 19,
   "metadata": {},
   "outputs": [],
   "source": [
    "columns = ['title','author','quantity_sold','review_numbers','original_price','discount','discounted_price','book_url']"
   ]
  },
  {
   "cell_type": "code",
   "execution_count": 20,
   "metadata": {},
   "outputs": [],
   "source": [
    "pd.DataFrame(data_list, columns=columns).to_csv(r'D:\\\\AIO2023\\Works\\Crawling\\tiki\\crawling_230712.csv', header=True, sep=',', encoding='utf-8')"
   ]
  }
 ],
 "metadata": {
  "kernelspec": {
   "display_name": "base",
   "language": "python",
   "name": "python3"
  },
  "language_info": {
   "codemirror_mode": {
    "name": "ipython",
    "version": 3
   },
   "file_extension": ".py",
   "mimetype": "text/x-python",
   "name": "python",
   "nbconvert_exporter": "python",
   "pygments_lexer": "ipython3",
   "version": "3.9.7"
  },
  "orig_nbformat": 4
 },
 "nbformat": 4,
 "nbformat_minor": 2
}
